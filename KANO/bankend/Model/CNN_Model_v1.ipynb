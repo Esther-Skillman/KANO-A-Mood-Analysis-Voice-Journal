{
 "cells": [
  {
   "cell_type": "markdown",
   "metadata": {},
   "source": [
    "# Databased used\n",
    "- CREMA-D: 7,442 clips\n",
    "- RAVDESS: 2,880 clips\n",
    "- TESS: 2,000 clips\n",
    "- SAVEE: 480 clips\n",
    "\n",
    "This provides a total of **12,802** inputs overall, with 7 emotions (anger, disgust, fear, happy, neutral, sad, suprise)."
   ]
  },
  {
   "cell_type": "code",
   "execution_count": 71,
   "metadata": {},
   "outputs": [
    {
     "name": "stdout",
     "output_type": "stream",
     "text": [
      "Requirement already satisfied: resampy in c:\\users\\eskillman\\.conda\\envs\\myenv\\lib\\site-packages (0.4.3)\n",
      "Requirement already satisfied: tf_keras in c:\\users\\eskillman\\.conda\\envs\\myenv\\lib\\site-packages (2.18.0)\n",
      "Requirement already satisfied: tensorflow in c:\\users\\eskillman\\.conda\\envs\\myenv\\lib\\site-packages (2.18.0)\n",
      "Requirement already satisfied: librosa in c:\\users\\eskillman\\.conda\\envs\\myenv\\lib\\site-packages (0.10.2.post1)\n",
      "Requirement already satisfied: pandas in c:\\users\\eskillman\\.conda\\envs\\myenv\\lib\\site-packages (2.2.3)\n",
      "Requirement already satisfied: matplotlib in c:\\users\\eskillman\\.conda\\envs\\myenv\\lib\\site-packages (3.10.0)\n",
      "Requirement already satisfied: kagglehub in c:\\users\\eskillman\\.conda\\envs\\myenv\\lib\\site-packages (0.3.6)\n",
      "Collecting seaborn\n",
      "  Downloading seaborn-0.13.2-py3-none-any.whl.metadata (5.4 kB)\n",
      "Requirement already satisfied: numpy>=1.17 in c:\\users\\eskillman\\.conda\\envs\\myenv\\lib\\site-packages (from resampy) (2.0.2)\n",
      "Requirement already satisfied: numba>=0.53 in c:\\users\\eskillman\\.conda\\envs\\myenv\\lib\\site-packages (from resampy) (0.61.0)\n",
      "Requirement already satisfied: tensorflow-intel==2.18.0 in c:\\users\\eskillman\\.conda\\envs\\myenv\\lib\\site-packages (from tensorflow) (2.18.0)\n",
      "Requirement already satisfied: absl-py>=1.0.0 in c:\\users\\eskillman\\.conda\\envs\\myenv\\lib\\site-packages (from tensorflow-intel==2.18.0->tensorflow) (2.1.0)\n",
      "Requirement already satisfied: astunparse>=1.6.0 in c:\\users\\eskillman\\.conda\\envs\\myenv\\lib\\site-packages (from tensorflow-intel==2.18.0->tensorflow) (1.6.3)\n",
      "Requirement already satisfied: flatbuffers>=24.3.25 in c:\\users\\eskillman\\.conda\\envs\\myenv\\lib\\site-packages (from tensorflow-intel==2.18.0->tensorflow) (25.1.24)\n",
      "Requirement already satisfied: gast!=0.5.0,!=0.5.1,!=0.5.2,>=0.2.1 in c:\\users\\eskillman\\.conda\\envs\\myenv\\lib\\site-packages (from tensorflow-intel==2.18.0->tensorflow) (0.6.0)\n",
      "Requirement already satisfied: google-pasta>=0.1.1 in c:\\users\\eskillman\\.conda\\envs\\myenv\\lib\\site-packages (from tensorflow-intel==2.18.0->tensorflow) (0.2.0)\n",
      "Requirement already satisfied: libclang>=13.0.0 in c:\\users\\eskillman\\.conda\\envs\\myenv\\lib\\site-packages (from tensorflow-intel==2.18.0->tensorflow) (18.1.1)\n",
      "Requirement already satisfied: opt-einsum>=2.3.2 in c:\\users\\eskillman\\.conda\\envs\\myenv\\lib\\site-packages (from tensorflow-intel==2.18.0->tensorflow) (3.4.0)\n",
      "Requirement already satisfied: packaging in c:\\users\\eskillman\\.conda\\envs\\myenv\\lib\\site-packages (from tensorflow-intel==2.18.0->tensorflow) (24.2)\n",
      "Requirement already satisfied: protobuf!=4.21.0,!=4.21.1,!=4.21.2,!=4.21.3,!=4.21.4,!=4.21.5,<6.0.0dev,>=3.20.3 in c:\\users\\eskillman\\.conda\\envs\\myenv\\lib\\site-packages (from tensorflow-intel==2.18.0->tensorflow) (5.29.3)\n",
      "Requirement already satisfied: requests<3,>=2.21.0 in c:\\users\\eskillman\\.conda\\envs\\myenv\\lib\\site-packages (from tensorflow-intel==2.18.0->tensorflow) (2.32.3)\n",
      "Requirement already satisfied: setuptools in c:\\users\\eskillman\\.conda\\envs\\myenv\\lib\\site-packages (from tensorflow-intel==2.18.0->tensorflow) (75.8.0)\n",
      "Requirement already satisfied: six>=1.12.0 in c:\\users\\eskillman\\.conda\\envs\\myenv\\lib\\site-packages (from tensorflow-intel==2.18.0->tensorflow) (1.17.0)\n",
      "Requirement already satisfied: termcolor>=1.1.0 in c:\\users\\eskillman\\.conda\\envs\\myenv\\lib\\site-packages (from tensorflow-intel==2.18.0->tensorflow) (2.5.0)\n",
      "Requirement already satisfied: typing-extensions>=3.6.6 in c:\\users\\eskillman\\.conda\\envs\\myenv\\lib\\site-packages (from tensorflow-intel==2.18.0->tensorflow) (4.12.2)\n",
      "Requirement already satisfied: wrapt>=1.11.0 in c:\\users\\eskillman\\.conda\\envs\\myenv\\lib\\site-packages (from tensorflow-intel==2.18.0->tensorflow) (1.17.2)\n",
      "Requirement already satisfied: grpcio<2.0,>=1.24.3 in c:\\users\\eskillman\\.conda\\envs\\myenv\\lib\\site-packages (from tensorflow-intel==2.18.0->tensorflow) (1.70.0)\n",
      "Requirement already satisfied: tensorboard<2.19,>=2.18 in c:\\users\\eskillman\\.conda\\envs\\myenv\\lib\\site-packages (from tensorflow-intel==2.18.0->tensorflow) (2.18.0)\n",
      "Requirement already satisfied: keras>=3.5.0 in c:\\users\\eskillman\\.conda\\envs\\myenv\\lib\\site-packages (from tensorflow-intel==2.18.0->tensorflow) (3.8.0)\n",
      "Requirement already satisfied: h5py>=3.11.0 in c:\\users\\eskillman\\.conda\\envs\\myenv\\lib\\site-packages (from tensorflow-intel==2.18.0->tensorflow) (3.12.1)\n",
      "Requirement already satisfied: ml-dtypes<0.5.0,>=0.4.0 in c:\\users\\eskillman\\.conda\\envs\\myenv\\lib\\site-packages (from tensorflow-intel==2.18.0->tensorflow) (0.4.1)\n",
      "Requirement already satisfied: audioread>=2.1.9 in c:\\users\\eskillman\\.conda\\envs\\myenv\\lib\\site-packages (from librosa) (3.0.1)\n",
      "Requirement already satisfied: scipy>=1.2.0 in c:\\users\\eskillman\\.conda\\envs\\myenv\\lib\\site-packages (from librosa) (1.15.1)\n",
      "Requirement already satisfied: scikit-learn>=0.20.0 in c:\\users\\eskillman\\.conda\\envs\\myenv\\lib\\site-packages (from librosa) (1.6.1)\n",
      "Requirement already satisfied: joblib>=0.14 in c:\\users\\eskillman\\.conda\\envs\\myenv\\lib\\site-packages (from librosa) (1.4.2)\n",
      "Requirement already satisfied: decorator>=4.3.0 in c:\\users\\eskillman\\.conda\\envs\\myenv\\lib\\site-packages (from librosa) (5.1.1)\n",
      "Requirement already satisfied: soundfile>=0.12.1 in c:\\users\\eskillman\\.conda\\envs\\myenv\\lib\\site-packages (from librosa) (0.13.1)\n",
      "Requirement already satisfied: pooch>=1.1 in c:\\users\\eskillman\\.conda\\envs\\myenv\\lib\\site-packages (from librosa) (1.8.2)\n",
      "Requirement already satisfied: soxr>=0.3.2 in c:\\users\\eskillman\\.conda\\envs\\myenv\\lib\\site-packages (from librosa) (0.5.0.post1)\n",
      "Requirement already satisfied: lazy-loader>=0.1 in c:\\users\\eskillman\\.conda\\envs\\myenv\\lib\\site-packages (from librosa) (0.4)\n",
      "Requirement already satisfied: msgpack>=1.0 in c:\\users\\eskillman\\.conda\\envs\\myenv\\lib\\site-packages (from librosa) (1.1.0)\n",
      "Requirement already satisfied: python-dateutil>=2.8.2 in c:\\users\\eskillman\\.conda\\envs\\myenv\\lib\\site-packages (from pandas) (2.9.0.post0)\n",
      "Requirement already satisfied: pytz>=2020.1 in c:\\users\\eskillman\\.conda\\envs\\myenv\\lib\\site-packages (from pandas) (2024.2)\n",
      "Requirement already satisfied: tzdata>=2022.7 in c:\\users\\eskillman\\.conda\\envs\\myenv\\lib\\site-packages (from pandas) (2025.1)\n",
      "Requirement already satisfied: contourpy>=1.0.1 in c:\\users\\eskillman\\.conda\\envs\\myenv\\lib\\site-packages (from matplotlib) (1.3.1)\n",
      "Requirement already satisfied: cycler>=0.10 in c:\\users\\eskillman\\.conda\\envs\\myenv\\lib\\site-packages (from matplotlib) (0.12.1)\n",
      "Requirement already satisfied: fonttools>=4.22.0 in c:\\users\\eskillman\\.conda\\envs\\myenv\\lib\\site-packages (from matplotlib) (4.55.8)\n",
      "Requirement already satisfied: kiwisolver>=1.3.1 in c:\\users\\eskillman\\.conda\\envs\\myenv\\lib\\site-packages (from matplotlib) (1.4.8)\n",
      "Requirement already satisfied: pillow>=8 in c:\\users\\eskillman\\.conda\\envs\\myenv\\lib\\site-packages (from matplotlib) (11.1.0)\n",
      "Requirement already satisfied: pyparsing>=2.3.1 in c:\\users\\eskillman\\.conda\\envs\\myenv\\lib\\site-packages (from matplotlib) (3.2.1)\n",
      "Requirement already satisfied: tqdm in c:\\users\\eskillman\\.conda\\envs\\myenv\\lib\\site-packages (from kagglehub) (4.67.1)\n",
      "Requirement already satisfied: llvmlite<0.45,>=0.44.0dev0 in c:\\users\\eskillman\\.conda\\envs\\myenv\\lib\\site-packages (from numba>=0.53->resampy) (0.44.0)\n",
      "Requirement already satisfied: platformdirs>=2.5.0 in c:\\users\\eskillman\\.conda\\envs\\myenv\\lib\\site-packages (from pooch>=1.1->librosa) (4.3.6)\n",
      "Requirement already satisfied: charset-normalizer<4,>=2 in c:\\users\\eskillman\\.conda\\envs\\myenv\\lib\\site-packages (from requests<3,>=2.21.0->tensorflow-intel==2.18.0->tensorflow) (3.4.1)\n",
      "Requirement already satisfied: idna<4,>=2.5 in c:\\users\\eskillman\\.conda\\envs\\myenv\\lib\\site-packages (from requests<3,>=2.21.0->tensorflow-intel==2.18.0->tensorflow) (3.10)\n",
      "Requirement already satisfied: urllib3<3,>=1.21.1 in c:\\users\\eskillman\\.conda\\envs\\myenv\\lib\\site-packages (from requests<3,>=2.21.0->tensorflow-intel==2.18.0->tensorflow) (2.3.0)\n",
      "Requirement already satisfied: certifi>=2017.4.17 in c:\\users\\eskillman\\.conda\\envs\\myenv\\lib\\site-packages (from requests<3,>=2.21.0->tensorflow-intel==2.18.0->tensorflow) (2024.12.14)\n",
      "Requirement already satisfied: threadpoolctl>=3.1.0 in c:\\users\\eskillman\\.conda\\envs\\myenv\\lib\\site-packages (from scikit-learn>=0.20.0->librosa) (3.5.0)\n",
      "Requirement already satisfied: cffi>=1.0 in c:\\users\\eskillman\\.conda\\envs\\myenv\\lib\\site-packages (from soundfile>=0.12.1->librosa) (1.17.1)\n",
      "Requirement already satisfied: colorama in c:\\users\\eskillman\\.conda\\envs\\myenv\\lib\\site-packages (from tqdm->kagglehub) (0.4.6)\n",
      "Requirement already satisfied: wheel<1.0,>=0.23.0 in c:\\users\\eskillman\\.conda\\envs\\myenv\\lib\\site-packages (from astunparse>=1.6.0->tensorflow-intel==2.18.0->tensorflow) (0.45.1)\n",
      "Requirement already satisfied: pycparser in c:\\users\\eskillman\\.conda\\envs\\myenv\\lib\\site-packages (from cffi>=1.0->soundfile>=0.12.1->librosa) (2.22)\n",
      "Requirement already satisfied: rich in c:\\users\\eskillman\\.conda\\envs\\myenv\\lib\\site-packages (from keras>=3.5.0->tensorflow-intel==2.18.0->tensorflow) (13.9.4)\n",
      "Requirement already satisfied: namex in c:\\users\\eskillman\\.conda\\envs\\myenv\\lib\\site-packages (from keras>=3.5.0->tensorflow-intel==2.18.0->tensorflow) (0.0.8)\n",
      "Requirement already satisfied: optree in c:\\users\\eskillman\\.conda\\envs\\myenv\\lib\\site-packages (from keras>=3.5.0->tensorflow-intel==2.18.0->tensorflow) (0.14.0)\n",
      "Requirement already satisfied: markdown>=2.6.8 in c:\\users\\eskillman\\.conda\\envs\\myenv\\lib\\site-packages (from tensorboard<2.19,>=2.18->tensorflow-intel==2.18.0->tensorflow) (3.7)\n",
      "Requirement already satisfied: tensorboard-data-server<0.8.0,>=0.7.0 in c:\\users\\eskillman\\.conda\\envs\\myenv\\lib\\site-packages (from tensorboard<2.19,>=2.18->tensorflow-intel==2.18.0->tensorflow) (0.7.2)\n",
      "Requirement already satisfied: werkzeug>=1.0.1 in c:\\users\\eskillman\\.conda\\envs\\myenv\\lib\\site-packages (from tensorboard<2.19,>=2.18->tensorflow-intel==2.18.0->tensorflow) (3.1.3)\n",
      "Requirement already satisfied: MarkupSafe>=2.1.1 in c:\\users\\eskillman\\.conda\\envs\\myenv\\lib\\site-packages (from werkzeug>=1.0.1->tensorboard<2.19,>=2.18->tensorflow-intel==2.18.0->tensorflow) (3.0.2)\n",
      "Requirement already satisfied: markdown-it-py>=2.2.0 in c:\\users\\eskillman\\.conda\\envs\\myenv\\lib\\site-packages (from rich->keras>=3.5.0->tensorflow-intel==2.18.0->tensorflow) (3.0.0)\n",
      "Requirement already satisfied: pygments<3.0.0,>=2.13.0 in c:\\users\\eskillman\\.conda\\envs\\myenv\\lib\\site-packages (from rich->keras>=3.5.0->tensorflow-intel==2.18.0->tensorflow) (2.19.1)\n",
      "Requirement already satisfied: mdurl~=0.1 in c:\\users\\eskillman\\.conda\\envs\\myenv\\lib\\site-packages (from markdown-it-py>=2.2.0->rich->keras>=3.5.0->tensorflow-intel==2.18.0->tensorflow) (0.1.2)\n",
      "Downloading seaborn-0.13.2-py3-none-any.whl (294 kB)\n",
      "Installing collected packages: seaborn\n",
      "Successfully installed seaborn-0.13.2\n",
      "Note: you may need to restart the kernel to use updated packages.\n"
     ]
    }
   ],
   "source": [
    "# Import libraries\n",
    "# KERNEL SETUP IN VS CODE:\n",
    "# conda create -n myenv python=3.12.2\n",
    "# conda activate myenv\n",
    "\n",
    "%pip install resampy tf_keras tensorflow librosa pandas matplotlib kagglehub seaborn\n",
    "\n",
    "import kagglehub\n",
    "import librosa\n",
    "from librosa import feature\n",
    "import numpy as np # linear algebra\n",
    "import pandas as pd # data processing, CSV file I/O (e.g. pd.read_csv)\n",
    "import matplotlib.pyplot as plt\n",
    "from sklearn.model_selection import train_test_split\n",
    "from sklearn.preprocessing import MinMaxScaler\n",
    "from tensorflow import keras\n",
    "from tensorflow.keras import regularizers\n",
    "from tensorflow.keras.models import Sequential\n",
    "from tensorflow.keras.layers import Dense, Conv2D, Flatten, Dropout, MaxPooling2D, Input\n",
    "from tensorflow.keras.utils import to_categorical\n",
    "from tensorflow.keras.callbacks import EarlyStopping, ReduceLROnPlateau\n",
    "import os"
   ]
  },
  {
   "cell_type": "code",
   "execution_count": null,
   "metadata": {},
   "outputs": [],
   "source": [
    "# Datasets via kagglehub\n",
    "\n",
    "cremad = kagglehub.dataset_download(\"ejlok1/cremad\")\n",
    "print(\"CREMA-D to dataset files:\", cremad)\n",
    "\n",
    "ravdess = kagglehub.dataset_download(\"uwrfkaggler/ravdess-emotional-speech-audio\")\n",
    "print(\"RAVDESS to dataset files:\", ravdess)\n",
    "\n",
    "tess = kagglehub.dataset_download(\"ejlok1/toronto-emotional-speech-set-tess\")\n",
    "print(\"RAVDESS to dataset files:\", tess)\n",
    "\n",
    "savee = kagglehub.dataset_download(\"ejlok1/surrey-audiovisual-expressed-emotion-savee\")\n",
    "print(\"RAVDESS to dataset files:\", savee)"
   ]
  },
  {
   "cell_type": "markdown",
   "metadata": {},
   "source": [
    "# Pre-processing\n",
    "## CREMA-D"
   ]
  },
  {
   "cell_type": "code",
   "execution_count": null,
   "metadata": {},
   "outputs": [],
   "source": [
    "# Load CREMA-D Dataset\n",
    "paths = []\n",
    "emotions = []\n",
    "\n",
    "for dirname, _, filenames in os.walk(cremad): # (dirname, subdirs, filenames)\n",
    "    for filename in filenames:\n",
    "        if filename.endswith('.wav'):\n",
    "            paths.append(os.path.join(dirname, filename))\n",
    "            emotion = filename.split('_')[2]  # Get the emotion code (e.g., 'ANG')\n",
    "            emotions.append(emotion)\n",
    "\n",
    "print(paths[:5])\n",
    "\n",
    "print(emotions[:5])\n",
    "\n",
    "# Create DataFrame\n",
    "cremad_df = pd.DataFrame()\n",
    "cremad_df['paths'] = paths\n",
    "cremad_df['emotions'] = emotions\n",
    "\n",
    "# Map emotion codes to full emotions\n",
    "emotion_map = {\n",
    "    'ANG': 'anger',\n",
    "    'DIS': 'disgust',\n",
    "    'FEA': 'fear',\n",
    "    'HAP': 'happy',\n",
    "    'NEU': 'neutral',\n",
    "    'SAD': 'sad'\n",
    "}\n",
    "\n",
    "cremad_df['emotions'] = cremad_df['emotions'].map(emotion_map)\n",
    "\n",
    "print(cremad_df.head())\n",
    "\n",
    "print(cremad_df['emotions'].value_counts())"
   ]
  },
  {
   "cell_type": "markdown",
   "metadata": {},
   "source": [
    "## RAVEDESS"
   ]
  },
  {
   "cell_type": "code",
   "execution_count": 83,
   "metadata": {},
   "outputs": [
    {
     "name": "stdout",
     "output_type": "stream",
     "text": [
      "['C:\\\\Users\\\\eskillman\\\\.cache\\\\kagglehub\\\\datasets\\\\uwrfkaggler\\\\ravdess-emotional-speech-audio\\\\versions\\\\1\\\\Actor_01\\\\03-01-01-01-01-01-01.wav', 'C:\\\\Users\\\\eskillman\\\\.cache\\\\kagglehub\\\\datasets\\\\uwrfkaggler\\\\ravdess-emotional-speech-audio\\\\versions\\\\1\\\\Actor_01\\\\03-01-01-01-01-02-01.wav', 'C:\\\\Users\\\\eskillman\\\\.cache\\\\kagglehub\\\\datasets\\\\uwrfkaggler\\\\ravdess-emotional-speech-audio\\\\versions\\\\1\\\\Actor_01\\\\03-01-01-01-02-01-01.wav', 'C:\\\\Users\\\\eskillman\\\\.cache\\\\kagglehub\\\\datasets\\\\uwrfkaggler\\\\ravdess-emotional-speech-audio\\\\versions\\\\1\\\\Actor_01\\\\03-01-01-01-02-02-01.wav', 'C:\\\\Users\\\\eskillman\\\\.cache\\\\kagglehub\\\\datasets\\\\uwrfkaggler\\\\ravdess-emotional-speech-audio\\\\versions\\\\1\\\\Actor_01\\\\03-01-02-01-01-01-01.wav']\n",
      "[1, 1, 1, 1, 2]\n",
      "                                               paths emotions\n",
      "0  C:\\Users\\eskillman\\.cache\\kagglehub\\datasets\\u...  neutral\n",
      "1  C:\\Users\\eskillman\\.cache\\kagglehub\\datasets\\u...  neutral\n",
      "2  C:\\Users\\eskillman\\.cache\\kagglehub\\datasets\\u...  neutral\n",
      "3  C:\\Users\\eskillman\\.cache\\kagglehub\\datasets\\u...  neutral\n",
      "4  C:\\Users\\eskillman\\.cache\\kagglehub\\datasets\\u...  neutral\n",
      "emotions\n",
      "neutral    576\n",
      "happy      384\n",
      "sad        384\n",
      "anger      384\n",
      "fear       384\n",
      "disgust    384\n",
      "suprise    384\n",
      "Name: count, dtype: int64\n"
     ]
    }
   ],
   "source": [
    "paths = []\n",
    "emotions = []\n",
    "\n",
    "for dirname, _, filenames in os.walk(ravdess): # (dirname, subdirs, filenames)\n",
    "    for filename in filenames:\n",
    "        if filename.endswith('.wav'):\n",
    "            paths.append(os.path.join(dirname, filename))\n",
    "            part = filename.split('.')[0].split('-')  # Get the emotion number (e.g., '03' = happy)\n",
    "            emotions.append(int(part[2]))\n",
    "\n",
    "\n",
    "print(paths[:5])\n",
    "print(emotions[:5])\n",
    "\n",
    "# Create DataFrame\n",
    "ravdess_df = pd.DataFrame()\n",
    "ravdess_df['paths'] = paths\n",
    "ravdess_df['emotions'] = emotions\n",
    "\n",
    "\n",
    "# Map emotion codes to full emotions\n",
    "emotion_map = {\n",
    "    1 : 'neutral',\n",
    "    2 : 'neutral', # calm as neutral to balance dataset\n",
    "    3 : 'happy',\n",
    "    4 : 'sad',\n",
    "    5 : 'anger',\n",
    "    6 : 'fear',\n",
    "    7 : 'disgust',\n",
    "    8 : 'suprise'\n",
    "\n",
    "}\n",
    "\n",
    "ravdess_df['emotions'] = ravdess_df['emotions'].map(emotion_map)\n",
    "\n",
    "print(ravdess_df.head())\n",
    "\n",
    "print(ravdess_df['emotions'].value_counts())"
   ]
  },
  {
   "cell_type": "markdown",
   "metadata": {},
   "source": [
    "## TESS"
   ]
  },
  {
   "cell_type": "code",
   "execution_count": 84,
   "metadata": {},
   "outputs": [
    {
     "name": "stdout",
     "output_type": "stream",
     "text": [
      "['C:\\\\Users\\\\eskillman\\\\.cache\\\\kagglehub\\\\datasets\\\\ejlok1\\\\toronto-emotional-speech-set-tess\\\\versions\\\\1\\\\TESS Toronto emotional speech set data\\\\OAF_angry\\\\OAF_back_angry.wav', 'C:\\\\Users\\\\eskillman\\\\.cache\\\\kagglehub\\\\datasets\\\\ejlok1\\\\toronto-emotional-speech-set-tess\\\\versions\\\\1\\\\TESS Toronto emotional speech set data\\\\OAF_angry\\\\OAF_bar_angry.wav', 'C:\\\\Users\\\\eskillman\\\\.cache\\\\kagglehub\\\\datasets\\\\ejlok1\\\\toronto-emotional-speech-set-tess\\\\versions\\\\1\\\\TESS Toronto emotional speech set data\\\\OAF_angry\\\\OAF_base_angry.wav', 'C:\\\\Users\\\\eskillman\\\\.cache\\\\kagglehub\\\\datasets\\\\ejlok1\\\\toronto-emotional-speech-set-tess\\\\versions\\\\1\\\\TESS Toronto emotional speech set data\\\\OAF_angry\\\\OAF_bath_angry.wav', 'C:\\\\Users\\\\eskillman\\\\.cache\\\\kagglehub\\\\datasets\\\\ejlok1\\\\toronto-emotional-speech-set-tess\\\\versions\\\\1\\\\TESS Toronto emotional speech set data\\\\OAF_angry\\\\OAF_bean_angry.wav']\n",
      "['angry', 'angry', 'angry', 'angry', 'angry']\n",
      "                                               paths emotions\n",
      "0  C:\\Users\\eskillman\\.cache\\kagglehub\\datasets\\e...    anger\n",
      "1  C:\\Users\\eskillman\\.cache\\kagglehub\\datasets\\e...    anger\n",
      "2  C:\\Users\\eskillman\\.cache\\kagglehub\\datasets\\e...    anger\n",
      "3  C:\\Users\\eskillman\\.cache\\kagglehub\\datasets\\e...    anger\n",
      "4  C:\\Users\\eskillman\\.cache\\kagglehub\\datasets\\e...    anger\n",
      "emotions\n",
      "anger      800\n",
      "disgust    800\n",
      "fear       800\n",
      "happy      800\n",
      "neutral    800\n",
      "suprise    800\n",
      "sad        800\n",
      "Name: count, dtype: int64\n"
     ]
    }
   ],
   "source": [
    "paths = []\n",
    "emotions = []\n",
    "\n",
    "for dirname, _, filenames in os.walk(tess): # (dirname, subdirs, filenames)\n",
    "    for filename in filenames:\n",
    "        if filename.endswith('.wav'):\n",
    "            paths.append(os.path.join(dirname, filename))\n",
    "            emotion = filename.split('.')[0].split('_')[2]  # Get the emotion code (e.g., 'ANG')\n",
    "            emotions.append(emotion)\n",
    "\n",
    "print(paths[:5])\n",
    "\n",
    "print(emotions[:5])\n",
    "\n",
    "# Create DataFrame\n",
    "tess_df = pd.DataFrame()\n",
    "tess_df['paths'] = paths\n",
    "tess_df['emotions'] = emotions\n",
    "\n",
    "# Map emotion codes to full emotions\n",
    "emotion_map = {\n",
    "    'angry': 'anger',\n",
    "    'disgust': 'disgust',\n",
    "    'fear': 'fear',\n",
    "    'happy': 'happy',\n",
    "    'neutral': 'neutral',\n",
    "    'ps' : 'suprise',\n",
    "    'sad' : 'sad'\n",
    "}\n",
    "\n",
    "tess_df['emotions'] = tess_df['emotions'].map(emotion_map)\n",
    "\n",
    "print(tess_df.head())\n",
    "\n",
    "print(tess_df['emotions'].value_counts())"
   ]
  },
  {
   "cell_type": "markdown",
   "metadata": {},
   "source": [
    "## SAVEE"
   ]
  },
  {
   "cell_type": "code",
   "execution_count": 85,
   "metadata": {},
   "outputs": [
    {
     "name": "stdout",
     "output_type": "stream",
     "text": [
      "['C:\\\\Users\\\\eskillman\\\\.cache\\\\kagglehub\\\\datasets\\\\ejlok1\\\\surrey-audiovisual-expressed-emotion-savee\\\\versions\\\\1\\\\ALL\\\\DC_a01.wav', 'C:\\\\Users\\\\eskillman\\\\.cache\\\\kagglehub\\\\datasets\\\\ejlok1\\\\surrey-audiovisual-expressed-emotion-savee\\\\versions\\\\1\\\\ALL\\\\DC_a02.wav', 'C:\\\\Users\\\\eskillman\\\\.cache\\\\kagglehub\\\\datasets\\\\ejlok1\\\\surrey-audiovisual-expressed-emotion-savee\\\\versions\\\\1\\\\ALL\\\\DC_a03.wav', 'C:\\\\Users\\\\eskillman\\\\.cache\\\\kagglehub\\\\datasets\\\\ejlok1\\\\surrey-audiovisual-expressed-emotion-savee\\\\versions\\\\1\\\\ALL\\\\DC_a04.wav', 'C:\\\\Users\\\\eskillman\\\\.cache\\\\kagglehub\\\\datasets\\\\ejlok1\\\\surrey-audiovisual-expressed-emotion-savee\\\\versions\\\\1\\\\ALL\\\\DC_a05.wav']\n",
      "['a', 'a', 'a', 'a', 'a']\n",
      "                                               paths emotions\n",
      "0  C:\\Users\\eskillman\\.cache\\kagglehub\\datasets\\e...    anger\n",
      "1  C:\\Users\\eskillman\\.cache\\kagglehub\\datasets\\e...    anger\n",
      "2  C:\\Users\\eskillman\\.cache\\kagglehub\\datasets\\e...    anger\n",
      "3  C:\\Users\\eskillman\\.cache\\kagglehub\\datasets\\e...    anger\n",
      "4  C:\\Users\\eskillman\\.cache\\kagglehub\\datasets\\e...    anger\n",
      "emotions\n",
      "neutral    120\n",
      "disgust     60\n",
      "anger       60\n",
      "fear        60\n",
      "happy       60\n",
      "sad         60\n",
      "suprise     60\n",
      "Name: count, dtype: int64\n"
     ]
    }
   ],
   "source": [
    "paths = []\n",
    "emotions = []\n",
    "\n",
    "for dirname, _, filenames in os.walk(savee): # (dirname, subdirs, filenames)\n",
    "    for filename in filenames:\n",
    "        if filename.endswith('.wav'):\n",
    "            paths.append(os.path.join(dirname, filename))\n",
    "            part = filename.split('_')[1]  # Get the emotion code (e.g., 'ANG')\n",
    "            emotion = part[:-6]\n",
    "            emotions.append(emotion)\n",
    "\n",
    "print(paths[:5])\n",
    "\n",
    "print(emotions[:5])\n",
    "\n",
    "# Create DataFrame\n",
    "savee_df = pd.DataFrame()\n",
    "savee_df['paths'] = paths\n",
    "savee_df['emotions'] = emotions\n",
    "\n",
    "emotion_map = {\n",
    "    'n': 'neutral',\n",
    "    'd': 'disgust',\n",
    "    'a': 'anger',\n",
    "    'f': 'fear',\n",
    "    'h': 'happy',\n",
    "    'sa': 'sad',\n",
    "    'su' : 'suprise'\n",
    "}\n",
    "\n",
    "savee_df['emotions'] = savee_df['emotions'].map(emotion_map)\n",
    "\n",
    "print(savee_df.head())\n",
    "\n",
    "print(savee_df['emotions'].value_counts())"
   ]
  },
  {
   "cell_type": "code",
   "execution_count": 86,
   "metadata": {},
   "outputs": [
    {
     "name": "stdout",
     "output_type": "stream",
     "text": [
      "emotions\n",
      "neutral    2583\n",
      "disgust    2515\n",
      "anger      2515\n",
      "fear       2515\n",
      "happy      2515\n",
      "sad        2515\n",
      "suprise    1244\n",
      "Name: count, dtype: int64\n"
     ]
    }
   ],
   "source": [
    "emotion_data = pd.concat([cremad_df, ravdess_df, tess_df, savee_df], axis = 0)\n",
    "\n",
    "emotion_data.to_csv(\"emotion_data.csv\", index=False)\n",
    "\n",
    "print(emotion_data.emotions.value_counts())"
   ]
  },
  {
   "cell_type": "code",
   "execution_count": null,
   "metadata": {},
   "outputs": [
    {
     "data": {
      "image/png": "[encoded data removed]",
      "text/plain": [
       "<Figure size 640x480 with 1 Axes>"
      ]
     },
     "metadata": {},
     "output_type": "display_data"
    }
   ],
   "source": [
    "import matplotlib.pyplot as plt\n",
    "import seaborn as sns\n",
    "\n",
    "plt.title('Emotions Count', size=16)\n",
    "sns.countplot(emotion_data.emotions)\n",
    "plt.xlabel('Count', size=12)\n",
    "plt.ylabel('Emotions', size=12)\n",
    "sns.despine(top=True, right=True, left=False, bottom=False)\n",
    "plt.show()"
   ]
  }
 ],
 "metadata": {
  "kernelspec": {
   "display_name": "myenv",
   "language": "python",
   "name": "python3"
  },
  "language_info": {
   "codemirror_mode": {
    "name": "ipython",
    "version": 3
   },
   "file_extension": ".py",
   "mimetype": "text/x-python",
   "name": "python",
   "nbconvert_exporter": "python",
   "pygments_lexer": "ipython3",
   "version": "3.12.2"
  }
 },
 "nbformat": 4,
 "nbformat_minor": 2
}
