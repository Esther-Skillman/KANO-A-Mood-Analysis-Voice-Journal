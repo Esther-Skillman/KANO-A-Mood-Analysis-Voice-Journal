{
 "cells": [
  {
   "cell_type": "markdown",
   "metadata": {},
   "source": [
    "# Databased used\n",
    "- CREMA-D: 7,442 clips\n",
    "- RAVDESS: 2,880 clips\n",
    "- TESS: 2,000 clips\n",
    "- SAVEE: 480 clips\n",
    "\n",
    "This provides a total of **12,802** inputs overall, with 7 emotions."
   ]
  },
  {
   "cell_type": "code",
   "execution_count": null,
   "metadata": {},
   "outputs": [],
   "source": [
    "# Import libraries\n",
    "# KERNEL SETUP IN VS CODE:\n",
    "# conda create -n myenv python=3.12.2\n",
    "# conda activate myenv\n",
    "\n",
    "%pip install resampy tf_keras tensorflow librosa pandas matplotlib kagglehub\n",
    "\n",
    "import kagglehub\n",
    "import librosa\n",
    "from librosa import feature\n",
    "import numpy as np # linear algebra\n",
    "import pandas as pd # data processing, CSV file I/O (e.g. pd.read_csv)\n",
    "import matplotlib.pyplot as plt\n",
    "from sklearn.model_selection import train_test_split\n",
    "from sklearn.preprocessing import MinMaxScaler\n",
    "from tensorflow import keras\n",
    "from tensorflow.keras import regularizers\n",
    "from tensorflow.keras.models import Sequential\n",
    "from tensorflow.keras.layers import Dense, Conv2D, Flatten, Dropout, MaxPooling2D, Input\n",
    "from tensorflow.keras.utils import to_categorical\n",
    "from tensorflow.keras.callbacks import EarlyStopping, ReduceLROnPlateau\n",
    "import os"
   ]
  },
  {
   "cell_type": "code",
   "execution_count": null,
   "metadata": {},
   "outputs": [],
   "source": [
    "# Datasets via kagglehub\n",
    "\n",
    "cremad = kagglehub.dataset_download(\"ejlok1/cremad\")\n",
    "print(\"CREMA-D to dataset files:\", cremad)\n",
    "\n",
    "ravdess = kagglehub.dataset_download(\"uwrfkaggler/ravdess-emotional-speech-audio\")\n",
    "print(\"RAVDESS to dataset files:\", ravdess)\n",
    "\n",
    "tess = kagglehub.dataset_download(\"ejlok1/toronto-emotional-speech-set-tess\")\n",
    "print(\"RAVDESS to dataset files:\", tess)\n",
    "\n",
    "savee = kagglehub.dataset_download(\"ejlok1/surrey-audiovisual-expressed-emotion-savee\")\n",
    "print(\"RAVDESS to dataset files:\", savee)"
   ]
  },
  {
   "cell_type": "markdown",
   "metadata": {},
   "source": [
    "# Pre-processing\n",
    "## CREMA-D"
   ]
  },
  {
   "cell_type": "code",
   "execution_count": null,
   "metadata": {},
   "outputs": [],
   "source": [
    "# Load CREMA-D Dataset\n",
    "paths = []\n",
    "emotions = []\n",
    "\n",
    "for dirname, _, filenames in os.walk(cremad): # (dirname, subdirs, filenames)\n",
    "    for filename in filenames:\n",
    "        if filename.endswith('.wav'):\n",
    "            paths.append(os.path.join(dirname, filename))\n",
    "            emotion = filename.split('_')[2]  # Get the emotion code (e.g., 'ANG')\n",
    "            emotions.append(emotion)\n",
    "\n",
    "print(paths[:5])\n",
    "\n",
    "print(emotions[:5])\n",
    "\n",
    "# Create DataFrame\n",
    "creamd_df = pd.DataFrame()\n",
    "creamd_df['paths'] = paths\n",
    "creamd_df['emotions'] = emotions\n",
    "\n",
    "# Map emotion codes to full emotions\n",
    "emotion_map = {\n",
    "    'ANG': 'anger',\n",
    "    'DIS': 'disgust',\n",
    "    'FEA': 'fear',\n",
    "    'HAP': 'happy',\n",
    "    'NEU': 'neutral',\n",
    "    'SAD': 'sad'\n",
    "}\n",
    "\n",
    "creamd_df['emotions'] = creamd_df['emotions'].map(emotion_map)\n",
    "\n",
    "print(creamd_df.head())\n",
    "\n",
    "print(creamd_df['emotions'].value_counts())"
   ]
  },
  {
   "cell_type": "markdown",
   "metadata": {},
   "source": [
    "## RAVEDESS"
   ]
  },
  {
   "cell_type": "code",
   "execution_count": null,
   "metadata": {},
   "outputs": [],
   "source": [
    "paths = []\n",
    "emotions = []\n",
    "\n",
    "for dirname, _, filenames in os.walk(ravdess): # (dirname, subdirs, filenames)\n",
    "    for filename in filenames:\n",
    "        if filename.endswith('.wav'):\n",
    "            paths.append(os.path.join(dirname, filename))\n",
    "            part = filename.split('.')[0].split('-')  # Get the emotion number (e.g., '03' = happy)\n",
    "            emotions.append(int(part[2]))\n",
    "\n",
    "\n",
    "print(paths[:5])\n",
    "print(emotions[:5])\n",
    "\n",
    "# Create DataFrame\n",
    "ravdess_df = pd.DataFrame()\n",
    "ravdess_df['paths'] = paths\n",
    "ravdess_df['emotions'] = emotions\n",
    "\n",
    "\n",
    "# Map emotion codes to full emotions\n",
    "emotion_map = {\n",
    "    1 : 'neutral',\n",
    "    2 : 'calm',\n",
    "    3 : 'happy',\n",
    "    4 : 'sad',\n",
    "    5 : 'anger',\n",
    "    6 : 'fear',\n",
    "    7 : 'disgust',\n",
    "    8 : 'suprised'\n",
    "\n",
    "}\n",
    "\n",
    "ravdess_df['emotions'] = ravdess_df['emotions'].map(emotion_map)\n",
    "\n",
    "print(ravdess_df.head())\n",
    "\n",
    "print(ravdess_df['emotions'].value_counts())"
   ]
  }
 ],
 "metadata": {
  "kernelspec": {
   "display_name": "myenv",
   "language": "python",
   "name": "python3"
  },
  "language_info": {
   "codemirror_mode": {
    "name": "ipython",
    "version": 3
   },
   "file_extension": ".py",
   "mimetype": "text/x-python",
   "name": "python",
   "nbconvert_exporter": "python",
   "pygments_lexer": "ipython3",
   "version": "3.12.2"
  }
 },
 "nbformat": 4,
 "nbformat_minor": 2
}
