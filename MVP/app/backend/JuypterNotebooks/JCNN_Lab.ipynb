{
 "cells": [
  {
   "cell_type": "code",
   "execution_count": null,
   "id": "747256ea-4b04-4b36-b9e4-fc2a8b97df92",
   "metadata": {},
   "outputs": [],
   "source": [
    "# Import libraries\n",
    "# KERNEL SETUP IN VS CODE:\n",
    "# conda create -n myenv python=3.12.2\n",
    "# conda activate myenv \n",
    "# OPTIONAL (usually prompted):\n",
    "# conda install jupyter\n",
    "\n",
    "# %pip install resampy tensorflow librosa pandas matplotlib kagglehub\n",
    "%pip install resampy tf_keras librosa pandas matplotlib kagglehub\n",
    "\n",
    "import kagglehub\n",
    "import librosa\n",
    "from librosa import feature\n",
    "import numpy as np # linear algebra\n",
    "import pandas as pd # data processing, CSV file I/O (e.g. pd.read_csv)\n",
    "import matplotlib.pyplot as plt\n",
    "from sklearn.model_selection import train_test_split\n",
    "from sklearn.preprocessing import MinMaxScaler\n",
    "# from tensorflow.python.keras.models import Sequential\n",
    "# from tensorflow.python.keras.layers import Dense, Conv2D, Flatten, Dropout, MaxPooling2D\n",
    "# from tensorflow.python.keras.utils.np_utils import to_categorical\n",
    "from tf_keras.models import Sequential\n",
    "from tf_keras.layers import Dense, Conv2D, Flatten, Dropout, MaxPooling2D, BatchNormalization, Input\n",
    "from tf_keras.utils import to_categorical\n",
    "import os\n"
   ]
  },
  {
   "cell_type": "code",
   "execution_count": null,
   "id": "fd6abfd8",
   "metadata": {},
   "outputs": [],
   "source": [
    "# Download the CREMA-D dataset via kagglehub\n",
    "\n",
    "path = kagglehub.dataset_download(\"ejlok1/cremad\")\n",
    "print(\"Path to dataset files:\", path)\n",
    "\n",
    "# Load CREMA-D Dataset\n",
    "paths = []\n",
    "labels = []\n",
    "\n",
    "for dirname, _, filenames in os.walk(path):\n",
    "    for filename in filenames:\n",
    "        if filename.endswith('.wav'):\n",
    "            paths.append(os.path.join(dirname, filename))\n",
    "            emotion = filename.split('_')[2]  # Get the emotion code (e.g., 'ANG')\n",
    "            labels.append(emotion.lower())\n",
    "\n",
    "print(paths[:5])\n",
    "\n",
    "print(labels[:5])\n",
    "\n",
    "# Create DataFrame\n",
    "df = pd.DataFrame()\n",
    "df['speech'] = paths\n",
    "df['label'] = labels\n",
    "\n",
    "# Map emotion codes to full labels\n",
    "emotion_map = {\n",
    "    'ang': 'anger',\n",
    "    'dis': 'disgust',\n",
    "    'fea': 'fear',\n",
    "    'hap': 'happy',\n",
    "    'neu': 'neutral',\n",
    "    'sad': 'sad'\n",
    "}\n",
    "\n",
    "df['label'] = df['label'].map(emotion_map)\n",
    "\n",
    "print(df.head())  # Check the first few rows\n",
    "\n",
    "print(df['label'].value_counts()) # Check number of labels"
   ]
  },
  {
   "cell_type": "code",
   "execution_count": null,
   "id": "ff666101",
   "metadata": {},
   "outputs": [],
   "source": [
    "# Function to extract MFCCs\n",
    "print(\"Extracting MFCCs...\")\n",
    "def extract_mfcc(file_path, n_mfcc=40, max_pad_len=256): # 256 * (512 / 22050) <= 6 seconds\n",
    "    \"\"\"\n",
    "    Extract MFCC features from an audio file.\n",
    "    Args:\n",
    "    - file_path: Path to the audio file.\n",
    "    - n_mfcc: Number of MFCCs to extract.\n",
    "    - max_pad_len: Fixed length for padding/truncating.\n",
    "    Returns:\n",
    "    - mfcc: Numpy array of shape (n_mfcc, max_pad_len).\n",
    "    \"\"\"\n",
    "    try:\n",
    "        audio, sample_rate = librosa.load(file_path, res_type='kaiser_fast')\n",
    "\n",
    "        # print(\"Audio Data (First 10 samples):\", audio[:10])\n",
    "        # print(\"Sample Rate:\", sample_rate)  # (e.g., 22050 Hz)\n",
    "\n",
    "        mfcc = librosa.feature.mfcc(y=audio, sr=sample_rate, n_mfcc=n_mfcc)\n",
    "        # print(\"MFCC Shape:\", mfcc.shape)\n",
    "        # print(\"MFCC (First 5 coefficients for the first few frames):\")\n",
    "        # print(mfcc[:, :5])\n",
    "\n",
    "        # Pad or truncate to ensure fixed length\n",
    "        if mfcc.shape[1] < max_pad_len:\n",
    "            pad_width = max_pad_len - mfcc.shape[1]\n",
    "            mfcc = np.pad(mfcc, pad_width=((0, 0), (0, pad_width)), mode='constant')\n",
    "        else:\n",
    "            mfcc = mfcc[:, :max_pad_len]\n",
    "    \n",
    "        # Normalise MFCCs using Min-Max scaling\n",
    "        scaler = MinMaxScaler(feature_range=(0,1))\n",
    "        mfcc_normalised = scaler.fit_transform(mfcc.T).T # Normalise across time\n",
    "\n",
    "        return mfcc_normalised\n",
    "    except Exception as e:\n",
    "        print(f\"Error processing {file_path}: {e}\")\n",
    "        return None\n",
    "print(\"MFCCs extraction SUCCESS\")"
   ]
  },
  {
   "cell_type": "code",
   "execution_count": 4,
   "id": "c6506fb9",
   "metadata": {},
   "outputs": [
    {
     "name": "stdout",
     "output_type": "stream",
     "text": [
      "Dataset loading SUCCESS\n"
     ]
    }
   ],
   "source": [
    "print(\"Loading dataset...\")\n",
    "# Load dataset\n",
    "df['features'] = df['speech'].apply(lambda x: extract_mfcc(x))\n",
    "\n",
    "# Drop rows with errors\n",
    "df = df.dropna(subset=['features'])\n",
    "\n",
    "print(\"Dataset loading SUCCESS\")"
   ]
  },
  {
   "cell_type": "code",
   "execution_count": 5,
   "id": "d0a50deb",
   "metadata": {},
   "outputs": [
    {
     "name": "stdout",
     "output_type": "stream",
     "text": [
      "Extracting features and labels...\n",
      "Features and labels extraction SUCCESS\n"
     ]
    }
   ],
   "source": [
    "\n",
    "print(\"Extracting features and labels...\")\n",
    "\n",
    "# Convert features and labels to NumPy arrays\n",
    "X = np.array(df['features'].tolist())  # Features\n",
    "y = pd.get_dummies(df['label']).values  # One-hot encoded labels\n",
    "\n",
    "print(\"Features and labels extraction SUCCESS\")"
   ]
  },
  {
   "cell_type": "code",
   "execution_count": 6,
   "id": "9a8459ef",
   "metadata": {},
   "outputs": [
    {
     "name": "stdout",
     "output_type": "stream",
     "text": [
      "Fitting data for CNN model...\n",
      "Fitted data for CNN model SUCCESS\n"
     ]
    }
   ],
   "source": [
    "\n",
    "print(\"Fitting data for CNN model...\")\n",
    "# Train-test split\n",
    "X_train, X_test, y_train, y_test = train_test_split(X, y, test_size=0.2, random_state=42)\n",
    "\n",
    "# Reshape for CNN input (add channel dimension)\n",
    "X_train = X_train.reshape(X_train.shape[0], X_train.shape[1], X_train.shape[2],1)  # (samples, n_mfcc, time_frames, 1)\n",
    "X_test = X_test.reshape(X_test.shape[0], X_test.shape[1], X_test.shape[2], 1)\n",
    "\n",
    "print(\"Fitted data for CNN model SUCCESS\")\n"
   ]
  },
  {
   "cell_type": "code",
   "execution_count": 7,
   "id": "5be17704",
   "metadata": {},
   "outputs": [
    {
     "name": "stdout",
     "output_type": "stream",
     "text": [
      "WARNING:tensorflow:From c:\\Users\\eskillman\\.conda\\envs\\myenv\\Lib\\site-packages\\tf_keras\\src\\backend.py:873: The name tf.get_default_graph is deprecated. Please use tf.compat.v1.get_default_graph instead.\n",
      "\n",
      "Building CNN model...\n",
      "WARNING:tensorflow:From c:\\Users\\eskillman\\.conda\\envs\\myenv\\Lib\\site-packages\\tf_keras\\src\\layers\\pooling\\max_pooling2d.py:161: The name tf.nn.max_pool is deprecated. Please use tf.nn.max_pool2d instead.\n",
      "\n",
      "WARNING:tensorflow:From c:\\Users\\eskillman\\.conda\\envs\\myenv\\Lib\\site-packages\\tf_keras\\src\\optimizers\\__init__.py:317: The name tf.train.Optimizer is deprecated. Please use tf.compat.v1.train.Optimizer instead.\n",
      "\n",
      "CNN model build SUCCESS\n"
     ]
    }
   ],
   "source": [
    "# Initialize the CNN model\n",
    "model = Sequential()\n",
    "\n",
    "print(\"Building CNN model...\")\n",
    "# Add convolutional layers\n",
    "model.add(Input(shape=(40, 256, 1)))\n",
    "\n",
    "model.add(Conv2D(32, kernel_size=(3, 3), activation='relu'))\n",
    "model.add(MaxPooling2D(pool_size=(2, 2)))\n",
    "\n",
    "model.add(Conv2D(64, kernel_size=(3, 3), activation='relu'))\n",
    "model.add(MaxPooling2D(pool_size=(2, 2)))\n",
    "\n",
    "model.add(Conv2D(128, kernel_size=(3, 3), activation='relu'))\n",
    "model.add(MaxPooling2D(pool_size=(2, 2)))\n",
    "\n",
    "#model.add(Conv2D(256, kernel_size=(3, 3), activation='relu'))\n",
    "#model.add(MaxPooling2D(pool_size=(2, 2)))\n",
    "\n",
    "# Explanation:\n",
    "# Progressive increase of filters\n",
    "# - 32 filters (patterns the network learns)\n",
    "# - kernel_size=(3,3): Each filter is a 3x3 sliding window.\n",
    "# - activation='relu': Introduces non-linearity, making the model learn complex patterns.\n",
    "# - input_shape=(40, 256, 1): Input dimensions—40 MFCCs, 256 time frames, 1 channel.\n",
    "# - Reduces dimensionality by taking the max value in 2x2 regions.\n",
    "# - Makes the model computationally efficient and reduces overfitting.\n",
    "\n",
    "# Flatten the 2D outputs into a 1D vector\n",
    "model.add(Flatten())\n",
    "\n",
    "# Add dense (fully connected) layers\n",
    "model.add(Dense(1024, activation='relu'))\n",
    "\n",
    "# Explanation:\n",
    "# - Fully connected layer with 128 neurons to learn high-level features.\n",
    "model.add(Dropout(0.5))\n",
    "# Explanation:\n",
    "# - Randomly \"drops\" 50% of neurons during training to prevent overfitting.\n",
    "\n",
    "# Output layer\n",
    "model.add(Dense(y_train.shape[1], activation='softmax'))\n",
    "# Explanation:\n",
    "# - Output layer with neurons equal to the number of classes (e.g., emotions).\n",
    "# - Softmax converts output to probabilities.\n",
    "\n",
    "# Compile the model\n",
    "model.compile(optimizer='adam', loss='categorical_crossentropy', metrics=['accuracy'])\n",
    "# Explanation:\n",
    "# - optimizer='adam': Adaptive optimization algorithm for faster convergence.\n",
    "# - loss='categorical_crossentropy': Used for multi-class classification problems.\n",
    "# - metrics=['accuracy']: Tracks accuracy during training.\n",
    "\n",
    "print(\"CNN model build SUCCESS\")"
   ]
  },
  {
   "cell_type": "code",
   "execution_count": 8,
   "id": "8b55ca60",
   "metadata": {},
   "outputs": [
    {
     "name": "stdout",
     "output_type": "stream",
     "text": [
      "Training model...\n",
      "Epoch 1/15\n",
      "WARNING:tensorflow:From c:\\Users\\eskillman\\.conda\\envs\\myenv\\Lib\\site-packages\\tf_keras\\src\\utils\\tf_utils.py:492: The name tf.ragged.RaggedTensorValue is deprecated. Please use tf.compat.v1.ragged.RaggedTensorValue instead.\n",
      "\n",
      "WARNING:tensorflow:From c:\\Users\\eskillman\\.conda\\envs\\myenv\\Lib\\site-packages\\tf_keras\\src\\engine\\base_layer_utils.py:384: The name tf.executing_eagerly_outside_functions is deprecated. Please use tf.compat.v1.executing_eagerly_outside_functions instead.\n",
      "\n",
      "187/187 [==============================] - 18s 92ms/step - loss: 1.6463 - accuracy: 0.2988 - val_loss: 1.4922 - val_accuracy: 0.3902\n",
      "Epoch 2/15\n",
      "187/187 [==============================] - 17s 92ms/step - loss: 1.5091 - accuracy: 0.3874 - val_loss: 1.4424 - val_accuracy: 0.4291\n",
      "Epoch 3/15\n",
      "187/187 [==============================] - 18s 95ms/step - loss: 1.4483 - accuracy: 0.4070 - val_loss: 1.4102 - val_accuracy: 0.4164\n",
      "Epoch 4/15\n",
      "187/187 [==============================] - 18s 94ms/step - loss: 1.4060 - accuracy: 0.4346 - val_loss: 1.3506 - val_accuracy: 0.4493\n",
      "Epoch 5/15\n",
      "187/187 [==============================] - 18s 94ms/step - loss: 1.3528 - accuracy: 0.4626 - val_loss: 1.2972 - val_accuracy: 0.4923\n",
      "Epoch 6/15\n",
      "187/187 [==============================] - 17s 93ms/step - loss: 1.3189 - accuracy: 0.4725 - val_loss: 1.2705 - val_accuracy: 0.4829\n",
      "Epoch 7/15\n",
      "187/187 [==============================] - 17s 93ms/step - loss: 1.2772 - accuracy: 0.4982 - val_loss: 1.3135 - val_accuracy: 0.4587\n",
      "Epoch 8/15\n",
      "187/187 [==============================] - 18s 94ms/step - loss: 1.2345 - accuracy: 0.5179 - val_loss: 1.2955 - val_accuracy: 0.4775\n",
      "Epoch 9/15\n",
      "187/187 [==============================] - 18s 94ms/step - loss: 1.1850 - accuracy: 0.5369 - val_loss: 1.2997 - val_accuracy: 0.5017\n",
      "Epoch 10/15\n",
      "187/187 [==============================] - 18s 94ms/step - loss: 1.1388 - accuracy: 0.5557 - val_loss: 1.2382 - val_accuracy: 0.5091\n",
      "Epoch 11/15\n",
      "187/187 [==============================] - 17s 93ms/step - loss: 1.0888 - accuracy: 0.5792 - val_loss: 1.2046 - val_accuracy: 0.5319\n",
      "Epoch 12/15\n",
      "187/187 [==============================] - 17s 93ms/step - loss: 1.0276 - accuracy: 0.6068 - val_loss: 1.2668 - val_accuracy: 0.5111\n",
      "Epoch 13/15\n",
      "187/187 [==============================] - 17s 93ms/step - loss: 1.0150 - accuracy: 0.6089 - val_loss: 1.2391 - val_accuracy: 0.5205\n",
      "Epoch 14/15\n",
      "187/187 [==============================] - 17s 93ms/step - loss: 0.9242 - accuracy: 0.6494 - val_loss: 1.3333 - val_accuracy: 0.5124\n",
      "Epoch 15/15\n",
      "187/187 [==============================] - 17s 93ms/step - loss: 0.8392 - accuracy: 0.6842 - val_loss: 1.3484 - val_accuracy: 0.5124\n",
      "Trained model SUCCESS\n"
     ]
    }
   ],
   "source": [
    "print(\"Training model...\")\n",
    "# Train the model\n",
    "history = model.fit(\n",
    "    X_train, y_train,\n",
    "    validation_data=(X_test, y_test),\n",
    "    epochs=15,  # Number of passes through the dataset\n",
    "    batch_size=32,  # Number of samples per gradient update\n",
    "    verbose=1  # Displays progress\n",
    ")\n",
    "print(\"Trained model SUCCESS\")"
   ]
  },
  {
   "cell_type": "code",
   "execution_count": 9,
   "id": "9a667966",
   "metadata": {},
   "outputs": [
    {
     "name": "stdout",
     "output_type": "stream",
     "text": [
      "Model saved as cnn_model_test.keras\n"
     ]
    }
   ],
   "source": [
    "model.save('cnn_model_test.keras') \n",
    "print(\"Model saved as cnn_model_test.keras\")"
   ]
  },
  {
   "cell_type": "code",
   "execution_count": null,
   "id": "9e1b306b",
   "metadata": {},
   "outputs": [
    {
     "name": "stdout",
     "output_type": "stream",
     "text": [
      "Evaluating model...\n",
      "Test Accuracy: 51.24%\n"
     ]
    }
   ],
   "source": [
    "print(\"Evaluating model...\")\n",
    "\n",
    "test_loss, test_accuracy = model.evaluate(X_test, y_test, verbose=0)\n",
    "print(f\"Test Accuracy: {test_accuracy * 100:.2f}%\")"
   ]
  }
 ],
 "metadata": {
  "kernelspec": {
   "display_name": "myenv",
   "language": "python",
   "name": "python3"
  },
  "language_info": {
   "codemirror_mode": {
    "name": "ipython",
    "version": 3
   },
   "file_extension": ".py",
   "mimetype": "text/x-python",
   "name": "python",
   "nbconvert_exporter": "python",
   "pygments_lexer": "ipython3",
   "version": "3.12.2"
  }
 },
 "nbformat": 4,
 "nbformat_minor": 5
}
